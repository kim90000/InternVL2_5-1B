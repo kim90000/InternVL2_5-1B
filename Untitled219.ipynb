{
  "nbformat": 4,
  "nbformat_minor": 0,
  "metadata": {
    "colab": {
      "private_outputs": true,
      "provenance": [],
      "authorship_tag": "ABX9TyPg8ftMQ5+25elamLQGMFhw",
      "include_colab_link": true
    },
    "kernelspec": {
      "name": "python3",
      "display_name": "Python 3"
    },
    "language_info": {
      "name": "python"
    }
  },
  "cells": [
    {
      "cell_type": "markdown",
      "metadata": {
        "id": "view-in-github",
        "colab_type": "text"
      },
      "source": [
        "<a href=\"https://colab.research.google.com/github/kim90000/InternVL2_5-1B/blob/main/Untitled219.ipynb\" target=\"_parent\"><img src=\"https://colab.research.google.com/assets/colab-badge.svg\" alt=\"Open In Colab\"/></a>"
      ]
    },
    {
      "cell_type": "code",
      "execution_count": null,
      "metadata": {
        "id": "NlO0O35HdVsp"
      },
      "outputs": [],
      "source": [
        "!pip install docling"
      ]
    },
    {
      "cell_type": "code",
      "source": [
        "from docling.document_converter import DocumentConverter\n",
        "\n",
        "source = \"https://arxiv.org/pdf/2408.09869\"  # document per local path or URL\n",
        "converter = DocumentConverter()\n",
        "result = converter.convert(source)\n",
        "print(result.document.export_to_markdown())  # output: \"## Docling Technical Report[...]\""
      ],
      "metadata": {
        "id": "-CFDQH1GtMvt"
      },
      "execution_count": null,
      "outputs": []
    },
    {
      "cell_type": "code",
      "source": [],
      "metadata": {
        "id": "sO5tNsW2t9q2"
      },
      "execution_count": null,
      "outputs": []
    }
  ]
}